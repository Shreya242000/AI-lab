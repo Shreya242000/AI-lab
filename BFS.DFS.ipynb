{
 "cells": [
  {
   "cell_type": "code",
   "execution_count": 8,
   "id": "2ceb0278",
   "metadata": {},
   "outputs": [
    {
     "name": "stdout",
     "output_type": "stream",
     "text": [
      "following is the breadth first search\n",
      "node visited at each time ['1', '2']\n",
      "node visited at each time ['1', '2', '10']\n",
      "node visited at each time ['1', '2', '10', '3']\n",
      "node visited at each time ['1', '2', '10', '3', '8']\n",
      "node visited at each time ['1', '2', '10', '3', '8', '4']\n",
      "node visited at each time ['1', '2', '10', '3', '8', '4', '9']\n",
      "node visited at each time ['1', '2', '10', '3', '8', '4', '9', '5']\n",
      "node visited at each time ['1', '2', '10', '3', '8', '4', '9', '5', '6']\n",
      "node visited at each time ['1', '2', '10', '3', '8', '4', '9', '5', '6', '7']\n"
     ]
    }
   ],
   "source": [
    "graph={\n",
    "    '1':['2','10'],\n",
    "    '2':['3','8'],\n",
    "    '3':['4'],\n",
    "    '4':['5','6','7'],\n",
    "    '5':[],\n",
    "    '6':[],\n",
    "    '7':[],\n",
    "    '8':['9'],\n",
    "    '9':[],\n",
    "    '10':[]\n",
    "}\n",
    "visited=[]\n",
    "queue=[]\n",
    "def bfs(visited,graph,node):\n",
    "    visited.append(node)\n",
    "    queue.append(node)\n",
    "    while queue:\n",
    "        m=queue.pop(0)\n",
    "        for neighbour in graph[m]:\n",
    "            if neighbour not in visited:\n",
    "                visited.append(neighbour)\n",
    "                queue.append(neighbour)\n",
    "                print(\"node visited at each time\",visited)\n",
    "print(\"following is the breadth first search\")\n",
    "bfs(visited,graph,'1')"
   ]
  },
  {
   "cell_type": "code",
   "execution_count": 5,
   "id": "17a72008",
   "metadata": {},
   "outputs": [
    {
     "name": "stdout",
     "output_type": "stream",
     "text": [
      "following is the depth first search\n",
      "5\n",
      "node visited at each time {'5'}\n",
      "3\n",
      "node visited at each time {'3', '5'}\n",
      "2\n",
      "node visited at each time {'3', '2', '5'}\n",
      "1\n",
      "node visited at each time {'3', '1', '2', '5'}\n",
      "4\n",
      "node visited at each time {'3', '5', '1', '2', '4'}\n",
      "8\n",
      "node visited at each time {'3', '5', '1', '8', '2', '4'}\n",
      "7\n",
      "node visited at each time {'3', '7', '5', '1', '8', '2', '4'}\n",
      "6\n",
      "node visited at each time {'3', '7', '6', '5', '1', '8', '2', '4'}\n"
     ]
    }
   ],
   "source": [
    "#2.Writea program to implement Depth first search using python\n",
    "\n",
    "graph={\n",
    "    '5':['3','7'],\n",
    "    '3':['2','4'],\n",
    "    '7':['6'],\n",
    "    '6':[],\n",
    "    '2':['1'],\n",
    "    '1':[],\n",
    "    '4':['8'],\n",
    "    '8':[]\n",
    "    \n",
    "}\n",
    "visited=set()\n",
    "def dfs(visited,graph,node):\n",
    "    if node not in visited:\n",
    "        print(node)\n",
    "        visited.add(node)\n",
    "        print(\"node visited at each time\",visited)\n",
    "        for neighbour in graph[node]:\n",
    "            dfs(visited,graph,neighbour)\n",
    "print(\"following is the depth first search\")\n",
    "dfs(visited,graph,'5')"
   ]
  },
  {
   "cell_type": "code",
   "execution_count": null,
   "id": "dd72f283",
   "metadata": {},
   "outputs": [],
   "source": []
  }
 ],
 "metadata": {
  "kernelspec": {
   "display_name": "Python 3 (ipykernel)",
   "language": "python",
   "name": "python3"
  },
  "language_info": {
   "codemirror_mode": {
    "name": "ipython",
    "version": 3
   },
   "file_extension": ".py",
   "mimetype": "text/x-python",
   "name": "python",
   "nbconvert_exporter": "python",
   "pygments_lexer": "ipython3",
   "version": "3.9.12"
  }
 },
 "nbformat": 4,
 "nbformat_minor": 5
}
